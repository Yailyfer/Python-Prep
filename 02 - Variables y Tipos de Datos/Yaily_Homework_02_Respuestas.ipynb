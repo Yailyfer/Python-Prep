{
 "cells": [
  {
   "cell_type": "markdown",
   "metadata": {},
   "source": [
    "1) Crear una variable que contenga un elemento del conjunto de números enteros y luego imprimir por pantalla"
   ]
  },
  {
   "cell_type": "code",
   "execution_count": null,
   "metadata": {},
   "outputs": [],
   "source": [
    "var_num_entero = 25\n",
    "print(var_num_entero)"
   ]
  },
  {
   "cell_type": "markdown",
   "metadata": {},
   "source": [
    "2) Imprimir el tipo de dato de la constante 8.5"
   ]
  },
  {
   "cell_type": "code",
   "execution_count": null,
   "metadata": {},
   "outputs": [],
   "source": [
    "var_const = 8.5\n",
    "print(type(var_const))"
   ]
  },
  {
   "cell_type": "markdown",
   "metadata": {},
   "source": [
    "3) Imprimir el tipo de dato de la variable creada en el punto 1"
   ]
  },
  {
   "cell_type": "code",
   "execution_count": null,
   "metadata": {},
   "outputs": [],
   "source": [
    "print(type(var_num_entero))"
   ]
  },
  {
   "cell_type": "markdown",
   "metadata": {},
   "source": [
    "4) Crear una variable que contenga tu nombre"
   ]
  },
  {
   "cell_type": "code",
   "execution_count": null,
   "metadata": {},
   "outputs": [],
   "source": [
    "var_mi_nombre = \"Yaily\""
   ]
  },
  {
   "cell_type": "markdown",
   "metadata": {},
   "source": [
    "5) Crear una variable que contenga un número complejo"
   ]
  },
  {
   "cell_type": "code",
   "execution_count": null,
   "metadata": {},
   "outputs": [],
   "source": [
    "var_num_complejo = 2 + 6j"
   ]
  },
  {
   "cell_type": "markdown",
   "metadata": {},
   "source": [
    "6) Mostrar el tipo de dato de la variable crada en el punto 5"
   ]
  },
  {
   "cell_type": "code",
   "execution_count": null,
   "metadata": {},
   "outputs": [],
   "source": [
    "print(type(var_num_complejo))"
   ]
  },
  {
   "cell_type": "markdown",
   "metadata": {},
   "source": [
    "7) Crear una variable que contenga el valor del número Pi redondeado a 4 decimales"
   ]
  },
  {
   "cell_type": "code",
   "execution_count": null,
   "metadata": {},
   "outputs": [],
   "source": [
    "import math\n",
    "var_pi = round(math.pi, 4)\n",
    "print(var_pi)"
   ]
  },
  {
   "cell_type": "markdown",
   "metadata": {},
   "source": [
    "8) Crear una variable que contenga el valor 'True' y otra que contenga el valor True. ¿Se trata de lo mismo?"
   ]
  },
  {
   "cell_type": "code",
   "execution_count": null,
   "metadata": {},
   "outputs": [],
   "source": [
    "var_bouleana = True\n",
    "var_string = 'True'\n",
    "\n",
    "\"\"\"\n",
    "No es lo mismo ya que una es un string y la otra es un bouleano, por lo que tienen signifi-\n",
    "cados diferentes y a su tratamiento es también diferente. Por ejemplo, ocupan espacios de \n",
    "memoria diferentes\n",
    "\"\"\""
   ]
  },
  {
   "cell_type": "markdown",
   "metadata": {},
   "source": [
    "9) Imprimir el tipo de dato correspondientes a las variables creadas en el punto 9"
   ]
  },
  {
   "cell_type": "code",
   "execution_count": null,
   "metadata": {},
   "outputs": [],
   "source": [
    "print(type(var_bouleana))\n",
    "print(type(var_string))"
   ]
  },
  {
   "cell_type": "markdown",
   "metadata": {},
   "source": [
    "10) Asignar a una variable, la suma de un número entero y otro decimal"
   ]
  },
  {
   "cell_type": "code",
   "execution_count": null,
   "metadata": {},
   "outputs": [],
   "source": [
    "var1_ent = 26\n",
    "var2_dec = 34.7\n",
    "var_suma = var1_ent + var2_dec\n",
    "print(var_suma)"
   ]
  },
  {
   "cell_type": "markdown",
   "metadata": {},
   "source": [
    "11) Realizar una operación de suma de números complejos"
   ]
  },
  {
   "cell_type": "code",
   "execution_count": null,
   "metadata": {},
   "outputs": [],
   "source": [
    "var_suma_comp = (1 + 3j) + (5 + 3j)\n",
    "print(var_suma_comp)"
   ]
  },
  {
   "cell_type": "markdown",
   "metadata": {},
   "source": [
    "12) Realizar una operación de suma de un número real y otro complejo"
   ]
  },
  {
   "cell_type": "code",
   "execution_count": null,
   "metadata": {},
   "outputs": [],
   "source": [
    "var_suma_real_comp = 10 + (5 + 8j)\n",
    "print(var_suma_real_comp)"
   ]
  },
  {
   "cell_type": "markdown",
   "metadata": {},
   "source": [
    "13) Realizar una operación de multiplicación"
   ]
  },
  {
   "cell_type": "code",
   "execution_count": null,
   "metadata": {},
   "outputs": [],
   "source": [
    "var_multip = 34 * 2\n",
    "print(var_multip)"
   ]
  },
  {
   "cell_type": "markdown",
   "metadata": {},
   "source": [
    "14) Mostrar el resultado de elevar 2 a la octava potencia"
   ]
  },
  {
   "cell_type": "code",
   "execution_count": null,
   "metadata": {},
   "outputs": [],
   "source": [
    "x = 2\n",
    "y = 8\n",
    "var_pot = x ** y\n",
    "print(var_pot)"
   ]
  },
  {
   "cell_type": "markdown",
   "metadata": {},
   "source": [
    "15) Obtener el cociente de la división de 27 entre 4 en una variable y luego mostrarla"
   ]
  },
  {
   "cell_type": "code",
   "execution_count": null,
   "metadata": {},
   "outputs": [],
   "source": [
    "x = 27\n",
    "y = 4\n",
    "var_cociente = x / y\n",
    "print(var_cociente)"
   ]
  },
  {
   "cell_type": "markdown",
   "metadata": {},
   "source": [
    "16) De la división anterior solamente mostrar la parte entera"
   ]
  },
  {
   "cell_type": "code",
   "execution_count": null,
   "metadata": {},
   "outputs": [],
   "source": [
    "var_cociente_entero = x // y\n",
    "print(var_cociente_entero)"
   ]
  },
  {
   "cell_type": "markdown",
   "metadata": {},
   "source": [
    "17) De la división de 27 entre 4 mostrar solamente el resto"
   ]
  },
  {
   "cell_type": "code",
   "execution_count": null,
   "metadata": {},
   "outputs": [],
   "source": [
    "var_cociente_resto = x % y\n",
    "print(var_cociente_resto)"
   ]
  },
  {
   "cell_type": "markdown",
   "metadata": {},
   "source": [
    "18) Utilizando como operandos el número 4 y los resultados obtenidos en los puntos 16 y 17. Obtener 27 como resultado"
   ]
  },
  {
   "cell_type": "code",
   "execution_count": null,
   "metadata": {},
   "outputs": [],
   "source": [
    "var_result = ((x // y) * 4) + (x % y)\n",
    "print(var_result)"
   ]
  },
  {
   "cell_type": "markdown",
   "metadata": {},
   "source": [
    "19) Utilizar el operador \"+\" en una operación donde intervengan solo variables alfanuméricas"
   ]
  },
  {
   "cell_type": "code",
   "execution_count": null,
   "metadata": {},
   "outputs": [],
   "source": [
    "var_texto = 'El número de cajas gusrdadas es: '\n",
    "var_num = 135\n",
    "mensaje = var_texto + str(var_num)\n",
    "print(mensaje)\n",
    "\n",
    "#Errores: var_num debe ir entre comillas o apostrofes para que sea alfanumerico, aunque sean números, simbolos, etec\n",
    "# NO debe ser un numero"
   ]
  },
  {
   "cell_type": "markdown",
   "metadata": {},
   "source": [
    "20) Evaluar si \"2\" es igual a 2. ¿Por qué ocurre eso?"
   ]
  },
  {
   "cell_type": "code",
   "execution_count": null,
   "metadata": {},
   "outputs": [],
   "source": [
    "var1 = 2\n",
    "var2 = 2.\n",
    "print(type(var1))\n",
    "print(type(var2))\n",
    "print(var2)\n",
    "\n",
    "'''\n",
    "Esto ocurre porque cuando usamos el '.' en python es asumido como el tipo de datos flotante. Ya que\n",
    "en este legunage según lo que introducimos el intérprete identifica el tipo de datos automáticamente\n",
    "'''\n",
    "\n",
    "# La forma correcta de hacerlo es usando el siguiente comando:\n",
    "# \"2\" == 2\n",
    "# Va a arrojar False porque son 2 tipos de datos diferentes"
   ]
  },
  {
   "cell_type": "markdown",
   "metadata": {},
   "source": [
    "21) Utilizar las funciones de cambio de tipo de dato, para que la validación del punto 20 resulte verdadera"
   ]
  },
  {
   "cell_type": "code",
   "execution_count": null,
   "metadata": {},
   "outputs": [],
   "source": [
    "var2_to_entero = int(var2)\n",
    "print(type(var2_to_entero))\n",
    "print(type(var1))\n",
    "# En este caso ambos tipos de datos son iguales, otra opción sería cambiar la var1 a float con la\n",
    "# instrucción float(var1)"
   ]
  },
  {
   "cell_type": "markdown",
   "metadata": {},
   "source": [
    "22) ¿Por qué arroja error el siguiente cambio de tipo de datos? a = float('3,8')"
   ]
  },
  {
   "cell_type": "code",
   "execution_count": null,
   "metadata": {},
   "outputs": [],
   "source": [
    "a = float('3,8')\n",
    "\n",
    "# Se debe a que se usa coma en lugar de punto y pyton no puede convertir por tanto esa cadena\n",
    "# de caracteres a numeros, o sea no es un tipo de dato adecuado para esta transformación\n",
    "\n",
    "# No arroja error si hicieramos lo siguiente:\n",
    "#a = float('3.8')"
   ]
  },
  {
   "cell_type": "markdown",
   "metadata": {},
   "source": [
    "23) Crear una variable con el valor 3, y utilizar el operador '-=' para modificar su contenido"
   ]
  },
  {
   "cell_type": "code",
   "execution_count": null,
   "metadata": {},
   "outputs": [],
   "source": [
    "var = 3\n",
    "var -= 2\n",
    "print(var)"
   ]
  },
  {
   "cell_type": "markdown",
   "metadata": {},
   "source": [
    "24) Realizar la operacion 1 << 2 ¿Por qué da ese resultado? ¿Qué es el sistema de numeración binario?"
   ]
  },
  {
   "cell_type": "code",
   "execution_count": 4,
   "metadata": {},
   "outputs": [
    {
     "name": "stdout",
     "output_type": "stream",
     "text": [
      "4\n",
      "224\n",
      "224\n",
      "2\n",
      "2.0\n"
     ]
    }
   ],
   "source": [
    "print(1 << 2)\n",
    "\n",
    "'''\n",
    "    - Arroja este resultado porque en la operación se convierte los operadores a binarios y poste-\n",
    "    riormente se desplazan los bits del operando de la izquierda a la izquierda cuantas posiciones\n",
    "    indique el operando de la derecha y se convierte nuevamente el número a decimal y se muestra el\n",
    "    resultado\n",
    "\n",
    "    - El sistema de nueración binario se basa en 0 y 1, son cadenas de estos dos números. Para \n",
    "    llevarlo a los conocidos decimales, se requiere que se eleve la base que es el 2, a la potencia \n",
    "    adecuada, que se determina por la posición que ocupan los bits puestos a  1 restándole el # 1.\n",
    "    Luego se suman todas las potencias anteriores y eso arroja su equivalente en decimal\n",
    "'''\n",
    "# Esto ahorra tiempo y como multiplicar el primer número por 2^(al segundo número)\n",
    "# Si usamos el operador >>(sentido contrario al ejemplo), se divide el primer número en lugar de multiplicar\n",
    "\n",
    "# Esto quiere decir que los siguientes pares de instrucciones son las mismas: \n",
    "# Par 1\n",
    "print(7 << 5) # Multiplicación\n",
    "print(7 * (2 ** 5))\n",
    "# Par 2\n",
    "# Esto quiere decir que las siguientes instrucciones son las mismas: \n",
    "print(64 >> 5) # Divición\n",
    "print(64 / (2 ** 5))\n"
   ]
  },
  {
   "cell_type": "markdown",
   "metadata": {},
   "source": [
    "25) Realizar la operación 2 + '2' ¿Por qué no está permitido? ¿Si los dos operandos serían del mismo tipo, siempre arrojaría el mismo resultado?"
   ]
  },
  {
   "cell_type": "code",
   "execution_count": null,
   "metadata": {},
   "outputs": [],
   "source": [
    "suma = 2 + '2'\n",
    "\n",
    "''' \n",
    "    - No está permitido porque la operación suma no se permite en operandos de diferente tipo\n",
    "    \n",
    "    - Si los operandos fueran del mismo tipo los resultados serían diferentes dependiendo del tipo\n",
    "     de datos. Tendríamos los 2 casos siguientes:\n",
    "        1. Ambos son enteros: 2 + int('2') = 4\n",
    "        2. Ambos son strings: str(2) + '2' = 22\n",
    "'''"
   ]
  },
  {
   "cell_type": "markdown",
   "metadata": {},
   "source": [
    "26) Realizar una operación válida entre valores de tipo entero y string"
   ]
  },
  {
   "cell_type": "code",
   "execution_count": null,
   "metadata": {},
   "outputs": [],
   "source": [
    "print('Escribiré la palabra hola 3 veces: ' + ('Hola' * 3))\n",
    "print(f'Esta es la suma de 2 y \"2\" convirtiendo ambos a strings: ', (str(2) + '2'))\n",
    "print(f'Esta es la suma de 2 y \"2\" convirtiendo ambos a enteros: ', (2 + int('2')))"
   ]
  }
 ],
 "metadata": {
  "kernelspec": {
   "display_name": "Python 3.8.10 64-bit",
   "language": "python",
   "name": "python3"
  },
  "language_info": {
   "codemirror_mode": {
    "name": "ipython",
    "version": 3
   },
   "file_extension": ".py",
   "mimetype": "text/x-python",
   "name": "python",
   "nbconvert_exporter": "python",
   "pygments_lexer": "ipython3",
   "version": "3.8.10"
  },
  "orig_nbformat": 4,
  "vscode": {
   "interpreter": {
    "hash": "916dbcbb3f70747c44a77c7bcd40155683ae19c65e1c03b4aa3499c5328201f1"
   }
  }
 },
 "nbformat": 4,
 "nbformat_minor": 2
}
