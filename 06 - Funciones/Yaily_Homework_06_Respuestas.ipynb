{
 "cells": [
  {
   "cell_type": "markdown",
   "metadata": {},
   "source": [
    "1) Crear una función que reciba un número como parámetro y devuelva si True si es primo y False si no lo es"
   ]
  },
  {
   "cell_type": "code",
   "execution_count": 24,
   "metadata": {},
   "outputs": [
    {
     "name": "stdout",
     "output_type": "stream",
     "text": [
      "False\n"
     ]
    }
   ],
   "source": [
    "#Función que identifica si un número es primo o no\n",
    "def YesOrNoPrimo(numAnaliz):\n",
    "    flatPrimo = 1\n",
    "    divisor = 2\n",
    "    while divisor <= round(abs(numAnaliz) / 2):\n",
    "        if abs(numAnaliz) % divisor == 0:\n",
    "            flatPrimo = 0\n",
    "            break\n",
    "        divisor += 1\n",
    "    if flatPrimo == 1 and numAnaliz != 0:\n",
    "        return(True)\n",
    "    elif (flatPrimo == 0 and numAnaliz != 0) or numAnaliz == 0:\n",
    "        return(False)\n",
    "# Probando la función con un numero entrado por teclado\n",
    "numAnaliz = int(input(\"Ingrese un número para saber si es primo o no: \"))\n",
    "print(YesOrNoPrimo(numAnaliz))"
   ]
  },
  {
   "cell_type": "markdown",
   "metadata": {},
   "source": [
    "2) Utilizando la función del punto 1, realizar otra función que reciba de parámetro una lista de números y devuelva sólo aquellos que son primos en otra lista"
   ]
  },
  {
   "cell_type": "code",
   "execution_count": 31,
   "metadata": {},
   "outputs": [
    {
     "name": "stdout",
     "output_type": "stream",
     "text": [
      "De la lista de números: [2, 56, 34, -87, 45, -29, 0, 65, 91, 3, 7, -13]\n",
      "La lista de números PRIMOS resultante es: [2, -29, 3, 7, -13]\n"
     ]
    }
   ],
   "source": [
    "# Función que devuelve en una lista los #s primos de la lista de entrada\n",
    "def NumPrimos(listNumAnaliz = []):\n",
    "    listNumPrimos = []\n",
    "    for number in listNumAnaliz:\n",
    "        if YesOrNoPrimo(number) == True:\n",
    "            listNumPrimos.append(number)\n",
    "    return(listNumPrimos)\n",
    "\n",
    "\n",
    "# VAriables o lista de números a analizar\n",
    "listNumAnaliz = [2,56,34,-87,45,-29,0,65,91,3,7,-13]\n",
    "\n",
    "# Programa principal\n",
    "listNumPrimos = NumPrimos(listNumAnaliz)\n",
    "print(f\"De la lista de números:\",listNumAnaliz)\n",
    "print(f\"La lista de números PRIMOS resultante es:\",listNumPrimos)\n",
    "\n"
   ]
  },
  {
   "cell_type": "markdown",
   "metadata": {},
   "source": [
    "3) Crear una función que al recibir una lista de números, devuelva el que más se repite y cuántas veces lo hace. Si hay más de un \"más repetido\", que devuelva cualquiera"
   ]
  },
  {
   "cell_type": "code",
   "execution_count": 39,
   "metadata": {},
   "outputs": [
    {
     "name": "stdout",
     "output_type": "stream",
     "text": [
      "El número más repetido es: 90\n",
      "El mismo se repite: 5 veces\n"
     ]
    }
   ],
   "source": [
    "# Función que devuelve al número más repetido y cuanta veces lo hace\n",
    "def numMasRepeat (listNum = []):\n",
    "    listNumDif = []\n",
    "    repeatTimes = []\n",
    "    for number in listNum:\n",
    "        if (number in listNumDif) == False:\n",
    "            listNumDif.append(number)\n",
    "            numTimes = listNum.count(number)\n",
    "            repeatTimes.append(numTimes)\n",
    "    maxTimes = max(repeatTimes)\n",
    "    numMaxTime = listNumDif[repeatTimes.index(maxTimes)] \n",
    "    return(numMaxTime, maxTimes)\n",
    "\n",
    "# Definiendo variables\n",
    "listNumEval = [4,3,78,3,86,3,90,90,90,90,90,56,12,3]\n",
    "\n",
    "# Programa principal\n",
    "moreRepeat = numMasRepeat(listNumEval)\n",
    "print(f\"El número más repetido es:\",moreRepeat[0])\n",
    "print(f\"El mismo se repite:\",moreRepeat[1],\"veces\")\n"
   ]
  },
  {
   "cell_type": "markdown",
   "metadata": {},
   "source": [
    "4) A la función del punto 3, agregar un parámetro más, que permita elegir si se requiere el menor o el mayor de los mas repetidos."
   ]
  },
  {
   "cell_type": "code",
   "execution_count": 5,
   "metadata": {},
   "outputs": [
    {
     "name": "stdout",
     "output_type": "stream",
     "text": [
      "El número más repetido es: 78\n",
      "El número de veces que se repite es: 6\n"
     ]
    }
   ],
   "source": [
    "def numMasRepeat1 (mayOrMen, listNum = []):\n",
    "    listNumDif = []\n",
    "    repeatTimes = []\n",
    "    listNumMaxTime = []\n",
    "    for number in listNum:\n",
    "        # Busco los numeros diferente y las veces que se repite y los guardo en 2 listas\n",
    "        if (number in listNumDif) == False:\n",
    "            listNumDif.append(number)\n",
    "            numTimes = listNum.count(number)\n",
    "            repeatTimes.append(numTimes)\n",
    "    # Busco elmayor número de veces que se repite un numero\n",
    "    maxTimes = max(repeatTimes)\n",
    "    if repeatTimes.count(maxTimes) == 1: # Si solo esta una vez, el mas repetido corresponde a su indice en listNumDif\n",
    "        numMaxTime = listNumDif[repeatTimes.index(maxTimes)]\n",
    "    else: # Si aparece mas de una vez, guardo todos los valores cuyos indices coincidan con maxTimes e lisNumDif\n",
    "        cont = 0\n",
    "        for num in repeatTimes:\n",
    "            if num == maxTimes:\n",
    "                listNumMaxTime.append(listNumDif[cont])\n",
    "            cont += 1\n",
    "        if mayOrMen == 'mayor':\n",
    "            numMaxTime = max(listNumMaxTime)\n",
    "        elif mayOrMen == 'menor':\n",
    "            numMaxTime = min(listNumMaxTime)\n",
    "        else:\n",
    "            numMaxTime = ''\n",
    "            maxTimes = ''\n",
    "            print(\"No entró una opcion valida.\")\n",
    "    return(numMaxTime, maxTimes)\n",
    "\n",
    "\n",
    "# Definiendo variables\n",
    "listNumEval1 = [3,5,78,4,78,5,67,78,5,78,78,98,34,78,5]\n",
    "\n",
    "# Programa principal\n",
    "moreRepeat = numMasRepeat1('mmdmdm',listNumEval1)\n",
    "print(f\"El número más repetido es:\",moreRepeat[0])\n",
    "print(f\"El número de veces que se repite es:\",moreRepeat[1])"
   ]
  },
  {
   "cell_type": "markdown",
   "metadata": {},
   "source": [
    "5) Crear una función que convierta entre grados Celsius, Farenheit y Kelvin<br>\n",
    "Fórmula 1\t: (°C × 9/5) + 32 = °F<br>\n",
    "Fórmula 2\t: °C + 273.15 = °K<br>\n",
    "Debe recibir 3 parámetros: el valor, la medida de orígen y la medida de destino"
   ]
  },
  {
   "cell_type": "code",
   "execution_count": 20,
   "metadata": {},
   "outputs": [
    {
     "name": "stdout",
     "output_type": "stream",
     "text": [
      "La temperatura de Celsius a Kelvin es: 298\n"
     ]
    },
    {
     "data": {
      "text/plain": [
       "()"
      ]
     },
     "execution_count": 20,
     "metadata": {},
     "output_type": "execute_result"
    }
   ],
   "source": [
    "# Función que convierte entre las diferentes medidas de temperatura\n",
    "def convMedidTemp (value, unidadMedidaOrig, unidadMedidaDest):\n",
    "    if unidadMedidaOrig == 'celsius':\n",
    "        if unidadMedidaDest == 'farenheit':\n",
    "            tempCnvert = (value * 9 / 5) + 32\n",
    "            print(f\"La temperatura de Celsius a Farenheit es:\", round(tempCnvert))\n",
    "        elif unidadMedidaDest == 'kelvin':\n",
    "            tempCnvert = value + 273.15\n",
    "            print(f\"La temperatura de Celsius a Kelvin es:\", round(tempCnvert))\n",
    "        else:\n",
    "            print(\"No se encontró una opción válida\")\n",
    "    elif unidadMedidaOrig == 'farenheit':\n",
    "        tempFarenToCel = (value - 32) * 5 / 9\n",
    "        if unidadMedidaDest == 'celsius':\n",
    "            print(f\"La temperatura de Farenheit a Celsius es:\", round(tempFarenToCel))\n",
    "        elif unidadMedidaDest == 'kelvin':\n",
    "            tempCnvert = tempFarenToCel + 273.15\n",
    "            print(f\"La temperatura de Farenheit a Kelvin es:\", round(tempCnvert))\n",
    "        else:\n",
    "            print(\"No se encontró una opción válida\")\n",
    "    elif unidadMedidaOrig == 'kelvin':\n",
    "        tempKelToCel = value - 273.15\n",
    "        if unidadMedidaDest == 'celsius':\n",
    "            print(f\"La temperatura de Kelvin a Celsius es:\", round(tempKelToCel))\n",
    "        elif unidadMedidaDest == 'farenheit':\n",
    "            tempCnvert = (tempKelToCel * 9 / 5) + 32\n",
    "            print(f\"La temperatura de Kelvin a Farenheit es:\", round(tempCnvert))\n",
    "        else:\n",
    "            print(\"No se encontró una opción válida\")\n",
    "    else:\n",
    "        print(\"No se encontró una opción válida\")\n",
    "    return()\n",
    "\n",
    "\n",
    "\n",
    "\n",
    "# Programa principal\n",
    "# Definiendo variables\n",
    "temperature = 25\n",
    "unidadMedidaOrigen = 'celsius'\n",
    "unidadMedidaDestino = 'kelvin'\n",
    "# Llamada de la función\n",
    "convMedidTemp(temperature,unidadMedidaOrigen,unidadMedidaDestino)\n",
    "\n"
   ]
  },
  {
   "cell_type": "markdown",
   "metadata": {},
   "source": [
    "6) Iterando una lista con los tres valores posibles de temperatura que recibe la función del punto 5, hacer un print para cada combinación de los mismos:"
   ]
  },
  {
   "cell_type": "code",
   "execution_count": 2,
   "metadata": {},
   "outputs": [
    {
     "name": "stdout",
     "output_type": "stream",
     "text": [
      "Los 25 grados Celsius equivalen a 298.15 grados Kelvin\n",
      "Los 25 grados Celsius equivalen a 77 grados Farenheit\n",
      "Los 298.15 grados Kelvin equivalen a 25 grados Celsius\n",
      "Los 298.15 grados Kelvin equivalen a 77 grados Farenheit\n",
      "Los 77 grados Farenheit equivalen a 25 grados Celsius\n",
      "Los 77 grados Farenheit equivalen a 298.15 grados Kelvin\n"
     ]
    }
   ],
   "source": [
    "# La lista está ordenada: celsius, kelvin,farenheit\n",
    "listTemp = [25, 298.15, 77]\n",
    "valActual = iter(listTemp)\n",
    "tempCelsius = next(valActual)\n",
    "tempKelvin = next(valActual)\n",
    "tempFarenheit = next(valActual)\n",
    "print(f\"Los\", tempCelsius,\"grados Celsius equivalen a\", tempKelvin,\"grados Kelvin\")\n",
    "print(f\"Los\", tempCelsius,\"grados Celsius equivalen a\", tempFarenheit,\"grados Farenheit\")\n",
    "print(f\"Los\", tempKelvin,\"grados Kelvin equivalen a\", tempCelsius,\"grados Celsius\")\n",
    "print(f\"Los\", tempKelvin,\"grados Kelvin equivalen a\", tempFarenheit,\"grados Farenheit\")\n",
    "print(f\"Los\", tempFarenheit,\"grados Farenheit equivalen a\", tempCelsius,\"grados Celsius\")\n",
    "print(f\"Los\", tempFarenheit,\"grados Farenheit equivalen a\", tempKelvin,\"grados Kelvin\")\n"
   ]
  },
  {
   "cell_type": "markdown",
   "metadata": {},
   "source": [
    "7) Armar una función que devuelva el factorial de un número. Tener en cuenta que el usuario puede equivocarse y enviar de parámetro un número no entero o negativo"
   ]
  },
  {
   "cell_type": "code",
   "execution_count": 38,
   "metadata": {},
   "outputs": [
    {
     "name": "stdout",
     "output_type": "stream",
     "text": [
      "El factorial de 1 es: 1\n"
     ]
    }
   ],
   "source": [
    "# Definiendo la función\n",
    "def factorial (num):\n",
    "    if num > 1:\n",
    "        num = num * factorial(num-1) # Usano recursividad\n",
    "    elif num < -1:\n",
    "        #num = num * factorial(num+1) # Usano recursividad\n",
    "        num = 'no válido'\n",
    "    elif num == 0:\n",
    "        num = 'No válido'\n",
    "    return(num)\n",
    "        \n",
    "    \n",
    "\n",
    "# Programa principal\n",
    "number = int(input(\" Entre el número del que desea conocer el factorial: \"))\n",
    "factorialNum = factorial(number)\n",
    "print(f\"El factorial de\", number, \"es:\", factorialNum)\n"
   ]
  },
  {
   "cell_type": "code",
   "execution_count": 9,
   "metadata": {},
   "outputs": [
    {
     "name": "stdout",
     "output_type": "stream",
     "text": [
      "El número entrado no es del tipo adecuado\n"
     ]
    }
   ],
   "source": [
    "# Otra variante para el factorial\n",
    "def factorial (num):\n",
    "    if num == 1:\n",
    "        factorialNumNew = 1\n",
    "    elif (num > 1):\n",
    "        cont = 2\n",
    "        factorialNumNew = 1\n",
    "        while cont <= num:\n",
    "            factorialNumNew = factorialNumNew * cont\n",
    "            cont += 1\n",
    "    else:\n",
    "        factorialNumNew = 'No válido'\n",
    "    return(factorialNumNew)\n",
    "\n",
    "# Programa principal\n",
    "try:\n",
    "    number = int(input(\" Entre el número del que desea conocer el factorial: \"))\n",
    "    factorialNum = factorial(number)\n",
    "    print(f\"El factorial de\", number, \"es:\", factorialNum)\n",
    "except ValueError:\n",
    "    print(\"El número entrado no es del tipo adecuado\")\n"
   ]
  }
 ],
 "metadata": {
  "kernelspec": {
   "display_name": "Python 3.8.10 64-bit",
   "language": "python",
   "name": "python3"
  },
  "language_info": {
   "codemirror_mode": {
    "name": "ipython",
    "version": 3
   },
   "file_extension": ".py",
   "mimetype": "text/x-python",
   "name": "python",
   "nbconvert_exporter": "python",
   "pygments_lexer": "ipython3",
   "version": "3.8.10"
  },
  "orig_nbformat": 4,
  "vscode": {
   "interpreter": {
    "hash": "916dbcbb3f70747c44a77c7bcd40155683ae19c65e1c03b4aa3499c5328201f1"
   }
  }
 },
 "nbformat": 4,
 "nbformat_minor": 2
}
