{
 "cells": [
  {
   "cell_type": "markdown",
   "metadata": {},
   "source": [
    "1) Crear una lista que contenga nombres de ciudades del mundo que contenga más de 5 elementos e imprimir por pantalla"
   ]
  },
  {
   "cell_type": "code",
   "execution_count": 1,
   "metadata": {},
   "outputs": [
    {
     "name": "stdout",
     "output_type": "stream",
     "text": [
      "Las ciudades registradas son las siguientes: \n",
      "['Barcelona', 'Habana', 'Gunajuato', 'Buenos Aires', 'Río de Janeiro', 'Venecia', 'Portugal']\n"
     ]
    }
   ],
   "source": [
    "listCiudades = ['Barcelona', 'Habana', 'Gunajuato', 'Buenos Aires', 'Río de Janeiro', 'Venecia', 'Portugal']\n",
    "print(\"Las ciudades registradas son las siguientes: \")\n",
    "print(listCiudades)"
   ]
  },
  {
   "cell_type": "markdown",
   "metadata": {},
   "source": [
    "2) Imprimir por pantalla el segundo elemento de la lista"
   ]
  },
  {
   "cell_type": "code",
   "execution_count": 2,
   "metadata": {},
   "outputs": [
    {
     "name": "stdout",
     "output_type": "stream",
     "text": [
      "El segundo elemento de la lista de ciudades es: \n",
      "Habana\n"
     ]
    }
   ],
   "source": [
    "print(\"El segundo elemento de la lista de ciudades es: \")\n",
    "print(listCiudades[1])"
   ]
  },
  {
   "cell_type": "markdown",
   "metadata": {},
   "source": [
    "3) Imprimir por pantalla del segundo al cuarto elemento"
   ]
  },
  {
   "cell_type": "code",
   "execution_count": 4,
   "metadata": {},
   "outputs": [
    {
     "name": "stdout",
     "output_type": "stream",
     "text": [
      "Los elementos del segundo al cuarto de la lista de ciudades son: \n",
      "['Habana', 'Gunajuato', 'Buenos Aires']\n"
     ]
    }
   ],
   "source": [
    "print(\"Los elementos del segundo al cuarto de la lista de ciudades son: \")\n",
    "print(listCiudades[1:4])"
   ]
  },
  {
   "cell_type": "markdown",
   "metadata": {},
   "source": [
    "4) Visualizar el tipo de dato de la lista"
   ]
  },
  {
   "cell_type": "code",
   "execution_count": 5,
   "metadata": {},
   "outputs": [
    {
     "name": "stdout",
     "output_type": "stream",
     "text": [
      "El tipo de datos de la lista es: \n",
      "<class 'list'>\n"
     ]
    }
   ],
   "source": [
    "print(\"El tipo de datos de la lista es: \")\n",
    "print(type(listCiudades))"
   ]
  },
  {
   "cell_type": "markdown",
   "metadata": {},
   "source": [
    "5) Visualizar todos los elementos de la lista a partir del tercero de manera genérica, es decir, sin explicitar la posición del último elemento"
   ]
  },
  {
   "cell_type": "code",
   "execution_count": 7,
   "metadata": {},
   "outputs": [
    {
     "name": "stdout",
     "output_type": "stream",
     "text": [
      "La lista de ciudades es: \n",
      "['Barcelona', 'Habana', 'Gunajuato', 'Buenos Aires', 'Río de Janeiro', 'Venecia', 'Portugal']\n",
      "Los elementos de la lista de ciudades a partir del tercero son: \n",
      "['Gunajuato', 'Buenos Aires', 'Río de Janeiro', 'Venecia', 'Portugal']\n"
     ]
    }
   ],
   "source": [
    "print(\"La lista de ciudades es: \")\n",
    "print(listCiudades)\n",
    "print(\"Los elementos de la lista de ciudades a partir del tercero son: \")\n",
    "print(listCiudades[2:])"
   ]
  },
  {
   "cell_type": "markdown",
   "metadata": {},
   "source": [
    "6) Visualizar los primeros 4 elementos de la lista"
   ]
  },
  {
   "cell_type": "code",
   "execution_count": 8,
   "metadata": {},
   "outputs": [
    {
     "name": "stdout",
     "output_type": "stream",
     "text": [
      "La lista de ciudades es: \n",
      "['Barcelona', 'Habana', 'Gunajuato', 'Buenos Aires', 'Río de Janeiro', 'Venecia', 'Portugal']\n",
      "Los primeros 4 elementos de la lista de ciudades son: \n",
      "['Barcelona', 'Habana', 'Gunajuato', 'Buenos Aires']\n"
     ]
    }
   ],
   "source": [
    "print(\"La lista de ciudades es: \")\n",
    "print(listCiudades)\n",
    "print(\"Los primeros 4 elementos de la lista de ciudades son: \")\n",
    "print(listCiudades[:4])"
   ]
  },
  {
   "cell_type": "markdown",
   "metadata": {},
   "source": [
    "7) Agregar una ciudad más a la lista que ya exista y otra que no ¿Arroja algún tipo de error?"
   ]
  },
  {
   "cell_type": "code",
   "execution_count": 9,
   "metadata": {},
   "outputs": [
    {
     "name": "stdout",
     "output_type": "stream",
     "text": [
      "La lista de ciudades es: \n",
      "['Barcelona', 'Habana', 'Gunajuato', 'Buenos Aires', 'Río de Janeiro', 'Venecia', 'Portugal', 'Cienfuegos', 'Habana']\n"
     ]
    }
   ],
   "source": [
    "listCiudades.append('Cienfuegos')\n",
    "listCiudades.append('Habana')\n",
    "print(\"La lista de ciudades es: \")\n",
    "print(listCiudades)\n",
    "\n",
    "# No arroja ningún tipo de error el agregar una ciudad existente a la lista"
   ]
  },
  {
   "cell_type": "markdown",
   "metadata": {},
   "source": [
    "8) Agregar otra ciudad, pero en la cuarta posición"
   ]
  },
  {
   "cell_type": "code",
   "execution_count": 10,
   "metadata": {},
   "outputs": [
    {
     "name": "stdout",
     "output_type": "stream",
     "text": [
      "La lista de ciudades es: \n",
      "['Barcelona', 'Habana', 'Gunajuato', 'Buenos Aires', 'Río de Janeiro', 'Venecia', 'Portugal', 'Cienfuegos', 'Habana']\n",
      "La NUEVA lista de ciudades es: \n",
      "['Barcelona', 'Habana', 'Gunajuato', 'Ciego de Ávila', 'Buenos Aires', 'Río de Janeiro', 'Venecia', 'Portugal', 'Cienfuegos', 'Habana']\n"
     ]
    }
   ],
   "source": [
    "print(\"La lista de ciudades es: \")\n",
    "print(listCiudades)\n",
    "listCiudades.insert(3, 'Ciego de Ávila')\n",
    "print(\"La NUEVA lista de ciudades es: \")\n",
    "print(listCiudades)"
   ]
  },
  {
   "cell_type": "markdown",
   "metadata": {},
   "source": [
    "9) Concatenar otra lista a la ya creada"
   ]
  },
  {
   "cell_type": "code",
   "execution_count": 11,
   "metadata": {},
   "outputs": [
    {
     "name": "stdout",
     "output_type": "stream",
     "text": [
      "La lista de ciudades ORIGINAL es: \n",
      "['Barcelona', 'Habana', 'Gunajuato', 'Ciego de Ávila', 'Buenos Aires', 'Río de Janeiro', 'Venecia', 'Portugal', 'Cienfuegos', 'Habana']\n",
      "La lista de ciudades a CONCATENAR es: \n",
      "['Querétaro', 'Caracas', 'Bogotá']\n",
      "La lista de ciudades CONCATENADA es: \n",
      "['Barcelona', 'Habana', 'Gunajuato', 'Ciego de Ávila', 'Buenos Aires', 'Río de Janeiro', 'Venecia', 'Portugal', 'Cienfuegos', 'Habana', 'Querétaro', 'Caracas', 'Bogotá']\n"
     ]
    }
   ],
   "source": [
    "newListCiudades = ['Querétaro', 'Caracas', 'Bogotá']\n",
    "print(\"La lista de ciudades ORIGINAL es: \")\n",
    "print(listCiudades)\n",
    "print(\"La lista de ciudades a CONCATENAR es: \")\n",
    "print(newListCiudades)\n",
    "listCiudades.extend(newListCiudades)\n",
    "print(\"La lista de ciudades CONCATENADA es: \")\n",
    "print(listCiudades)"
   ]
  },
  {
   "cell_type": "markdown",
   "metadata": {},
   "source": [
    "10) Encontrar el índice de la ciudad que en el punto 7 agregamos duplicada. ¿Se nota alguna particularidad?"
   ]
  },
  {
   "cell_type": "code",
   "execution_count": 12,
   "metadata": {},
   "outputs": [
    {
     "name": "stdout",
     "output_type": "stream",
     "text": [
      "La lista de ciudades es: \n",
      "['Barcelona', 'Habana', 'Gunajuato', 'Ciego de Ávila', 'Buenos Aires', 'Río de Janeiro', 'Venecia', 'Portugal', 'Cienfuegos', 'Habana', 'Querétaro', 'Caracas', 'Bogotá']\n",
      "El index de la ciudad duplicada es:  1\n"
     ]
    }
   ],
   "source": [
    "# La ciudad duplicada fue Habana\n",
    "print(\"La lista de ciudades es: \")\n",
    "print(listCiudades)\n",
    "print(f\"El index de la ciudad duplicada es: \",listCiudades.index('Habana'))\n",
    "\n",
    "\n",
    "# NOTA: la particularidad es que sólo arroja el indice de la primera vez que encuentra esta ciudad"
   ]
  },
  {
   "cell_type": "code",
   "execution_count": null,
   "metadata": {},
   "outputs": [],
   "source": [
    "# Imprime el índice de las ciudades en la lista. OJO: si está repetida una ciudad arroja el indice\n",
    "# de la 1ra vez que la encuentra\n",
    "for element in listCiudades:\n",
    "    print(listCiudades.index(element))\n",
    "# Repitiendo la acción anterior usando la funcion enumerte\n",
    "for element in enumerate(listCiudades):\n",
    "    print(element)\n",
    "# Lo mismo de arriba pero asignando a variables diferentes el elemento y su indice\n",
    "for posic,element in enumerate(listCiudades):\n",
    "    print(posic, element)"
   ]
  },
  {
   "cell_type": "markdown",
   "metadata": {},
   "source": [
    "11) ¿Qué pasa si se busca un elemento que no existe?"
   ]
  },
  {
   "cell_type": "code",
   "execution_count": 13,
   "metadata": {},
   "outputs": [
    {
     "name": "stdout",
     "output_type": "stream",
     "text": [
      "La lista de ciudades es: \n",
      "['Barcelona', 'Habana', 'Gunajuato', 'Ciego de Ávila', 'Buenos Aires', 'Río de Janeiro', 'Venecia', 'Portugal', 'Cienfuegos', 'Habana', 'Querétaro', 'Caracas', 'Bogotá']\n"
     ]
    },
    {
     "ename": "ValueError",
     "evalue": "'Santa Clara' is not in list",
     "output_type": "error",
     "traceback": [
      "\u001b[0;31m---------------------------------------------------------------------------\u001b[0m",
      "\u001b[0;31mValueError\u001b[0m                                Traceback (most recent call last)",
      "\u001b[1;32m/home/yaily/DATA SCIENCE/HENRY/Python_prep_course/Repositorio/Python-Prep/04 - Estructuras de datos/Yaily_Homework_04_Respuestas.ipynb Celda 22\u001b[0m in \u001b[0;36m<cell line: 5>\u001b[0;34m()\u001b[0m\n\u001b[1;32m      <a href='vscode-notebook-cell:/home/yaily/DATA%20SCIENCE/HENRY/Python_prep_course/Repositorio/Python-Prep/04%20-%20Estructuras%20de%20datos/Yaily_Homework_04_Respuestas.ipynb#ch0000023?line=2'>3</a>\u001b[0m \u001b[39mprint\u001b[39m(\u001b[39m\"\u001b[39m\u001b[39mLa lista de ciudades es: \u001b[39m\u001b[39m\"\u001b[39m)\n\u001b[1;32m      <a href='vscode-notebook-cell:/home/yaily/DATA%20SCIENCE/HENRY/Python_prep_course/Repositorio/Python-Prep/04%20-%20Estructuras%20de%20datos/Yaily_Homework_04_Respuestas.ipynb#ch0000023?line=3'>4</a>\u001b[0m \u001b[39mprint\u001b[39m(listCiudades)\n\u001b[0;32m----> <a href='vscode-notebook-cell:/home/yaily/DATA%20SCIENCE/HENRY/Python_prep_course/Repositorio/Python-Prep/04%20-%20Estructuras%20de%20datos/Yaily_Homework_04_Respuestas.ipynb#ch0000023?line=4'>5</a>\u001b[0m \u001b[39mprint\u001b[39m(\u001b[39mf\u001b[39m\u001b[39m\"\u001b[39m\u001b[39mEl index de la ciudad duplicada es: \u001b[39m\u001b[39m\"\u001b[39m,listCiudades\u001b[39m.\u001b[39;49mindex(\u001b[39m'\u001b[39;49m\u001b[39mSanta Clara\u001b[39;49m\u001b[39m'\u001b[39;49m))\n",
      "\u001b[0;31mValueError\u001b[0m: 'Santa Clara' is not in list"
     ]
    }
   ],
   "source": [
    "# NOTA: Arroja un error el sistema\n",
    "\n",
    "print(\"La lista de ciudades es: \")\n",
    "print(listCiudades)\n",
    "print(f\"El index de la ciudad duplicada es: \",listCiudades.index('Santa Clara'))"
   ]
  },
  {
   "cell_type": "markdown",
   "metadata": {},
   "source": [
    "12) Eliminar un elemento de la lista"
   ]
  },
  {
   "cell_type": "code",
   "execution_count": 41,
   "metadata": {},
   "outputs": [
    {
     "name": "stdout",
     "output_type": "stream",
     "text": [
      "La lista de ciudades es: \n",
      "['Gunajuato', 'Ciego de Ávila', 'Habana', 'Buenos Aires', 'Río de Janeiro', 'Venecia', 'Portugal', 'Cienfuegos', 'Querétaro', 'Caracas', 'Bogotá', 'París']\n",
      "Esta es la lista de ciudades eliminado 'La Ciudad Indicada': \n",
      "['Gunajuato', 'Ciego de Ávila', 'Buenos Aires', 'Río de Janeiro', 'Venecia', 'Portugal', 'Cienfuegos', 'Querétaro', 'Caracas', 'Bogotá', 'París']\n"
     ]
    }
   ],
   "source": [
    "listCiudades.insert(2, 'Habana')\n",
    "print(\"La lista de ciudades es: \")\n",
    "print(listCiudades)\n",
    "listCiudades.remove('Habana')\n",
    "print(\"Esta es la lista de ciudades eliminado 'La Ciudad Indicada': \")\n",
    "print(listCiudades)\n",
    "\n",
    "# Si el elemento estárepetido sólo lo elimina 1 vez, el primero que encuentra"
   ]
  },
  {
   "cell_type": "markdown",
   "metadata": {},
   "source": [
    "13) ¿Qué pasa si el elemento a eliminar no existe?"
   ]
  },
  {
   "cell_type": "code",
   "execution_count": 27,
   "metadata": {},
   "outputs": [
    {
     "ename": "ValueError",
     "evalue": "list.remove(x): x not in list",
     "output_type": "error",
     "traceback": [
      "\u001b[0;31m---------------------------------------------------------------------------\u001b[0m",
      "\u001b[0;31mValueError\u001b[0m                                Traceback (most recent call last)",
      "\u001b[1;32m/home/yaily/DATA SCIENCE/HENRY/Python_prep_course/Repositorio/Python-Prep/04 - Estructuras de datos/Yaily_Homework_04_Respuestas.ipynb Celda 26\u001b[0m in \u001b[0;36m<cell line: 2>\u001b[0;34m()\u001b[0m\n\u001b[1;32m      <a href='vscode-notebook-cell:/home/yaily/DATA%20SCIENCE/HENRY/Python_prep_course/Repositorio/Python-Prep/04%20-%20Estructuras%20de%20datos/Yaily_Homework_04_Respuestas.ipynb#ch0000027?line=0'>1</a>\u001b[0m \u001b[39m# El sistema aarroja un error\u001b[39;00m\n\u001b[0;32m----> <a href='vscode-notebook-cell:/home/yaily/DATA%20SCIENCE/HENRY/Python_prep_course/Repositorio/Python-Prep/04%20-%20Estructuras%20de%20datos/Yaily_Homework_04_Respuestas.ipynb#ch0000027?line=1'>2</a>\u001b[0m listCiudades\u001b[39m.\u001b[39;49mremove(\u001b[39m'\u001b[39;49m\u001b[39mCardenas\u001b[39;49m\u001b[39m'\u001b[39;49m)\n",
      "\u001b[0;31mValueError\u001b[0m: list.remove(x): x not in list"
     ]
    }
   ],
   "source": [
    "# El sistema aarroja un error\n",
    "listCiudades.remove('Cardenas')"
   ]
  },
  {
   "cell_type": "markdown",
   "metadata": {},
   "source": [
    "14) Extraer el úlimo elemento de la lista, guardarlo en una variable e imprimirlo"
   ]
  },
  {
   "cell_type": "code",
   "execution_count": 28,
   "metadata": {},
   "outputs": [
    {
     "name": "stdout",
     "output_type": "stream",
     "text": [
      "La lista de ciudades es: \n",
      "['Gunajuato', 'Ciego de Ávila', 'Buenos Aires', 'Río de Janeiro', 'Venecia', 'Portugal', 'Cienfuegos', 'Querétaro', 'Caracas', 'Bogotá', 'Habana']\n",
      "El último elemento de la lista es:  Habana\n"
     ]
    }
   ],
   "source": [
    "print(\"La lista de ciudades es: \")\n",
    "print(listCiudades)\n",
    "lastElement = listCiudades.pop(-1)\n",
    "print(f\"El último elemento de la lista es: \", lastElement)"
   ]
  },
  {
   "cell_type": "markdown",
   "metadata": {},
   "source": [
    "15) Mostrar la lista multiplicada por 4"
   ]
  },
  {
   "cell_type": "code",
   "execution_count": 33,
   "metadata": {},
   "outputs": [
    {
     "name": "stdout",
     "output_type": "stream",
     "text": [
      "La lista de ciudades es: \n",
      "['Gunajuato', 'Ciego de Ávila', 'Buenos Aires', 'Río de Janeiro', 'Venecia', 'Portugal', 'Cienfuegos', 'Querétaro', 'Caracas', 'Bogotá']\n",
      "Esta es la lista de ciudades multiplicada por 4: \n",
      "['Gunajuato', 'Ciego de Ávila', 'Buenos Aires', 'Río de Janeiro', 'Venecia', 'Portugal', 'Cienfuegos', 'Querétaro', 'Caracas', 'Bogotá', 'Gunajuato', 'Ciego de Ávila', 'Buenos Aires', 'Río de Janeiro', 'Venecia', 'Portugal', 'Cienfuegos', 'Querétaro', 'Caracas', 'Bogotá', 'Gunajuato', 'Ciego de Ávila', 'Buenos Aires', 'Río de Janeiro', 'Venecia', 'Portugal', 'Cienfuegos', 'Querétaro', 'Caracas', 'Bogotá', 'Gunajuato', 'Ciego de Ávila', 'Buenos Aires', 'Río de Janeiro', 'Venecia', 'Portugal', 'Cienfuegos', 'Querétaro', 'Caracas', 'Bogotá']\n",
      "\n",
      " ¿Está Caracas en la lista de Ciudades? \n"
     ]
    },
    {
     "data": {
      "text/plain": [
       "True"
      ]
     },
     "execution_count": 33,
     "metadata": {},
     "output_type": "execute_result"
    }
   ],
   "source": [
    "print(\"La lista de ciudades es: \")\n",
    "print(listCiudades)\n",
    "print(\"Esta es la lista de ciudades multiplicada por 4: \")\n",
    "print(listCiudades * 4)\n",
    "print(\"\\n ¿Está Caracas en la lista de Ciudades? \")\n",
    "'Caracas' in listCiudades\n"
   ]
  },
  {
   "cell_type": "markdown",
   "metadata": {},
   "source": [
    "16) Crear una tupla que contenga los números enteros del 1 al 20"
   ]
  },
  {
   "cell_type": "code",
   "execution_count": 30,
   "metadata": {},
   "outputs": [],
   "source": [
    "tupleNumeros = (1,2,3,4,5,6,7,8,9,10,11,12,13,14,15,16,17,18,19,20)"
   ]
  },
  {
   "cell_type": "markdown",
   "metadata": {},
   "source": [
    "17) Imprimir desde el índice 10 al 15 de la tupla"
   ]
  },
  {
   "cell_type": "code",
   "execution_count": 36,
   "metadata": {},
   "outputs": [
    {
     "name": "stdout",
     "output_type": "stream",
     "text": [
      "La impresión desde el índice 10 al 15 de la tupla: \n",
      "(11, 12, 13, 14, 15, 16)\n"
     ]
    }
   ],
   "source": [
    "print(\"La impresión desde el índice 10 al 15 de la tupla: \")\n",
    "print(tupleNumeros[10:16])"
   ]
  },
  {
   "cell_type": "markdown",
   "metadata": {},
   "source": [
    "18) Evaluar si los números 20 y 30 están dentro de la tupla"
   ]
  },
  {
   "cell_type": "code",
   "execution_count": 37,
   "metadata": {},
   "outputs": [
    {
     "name": "stdout",
     "output_type": "stream",
     "text": [
      "La tupla es:\n",
      "(1, 2, 3, 4, 5, 6, 7, 8, 9, 10, 11, 12, 13, 14, 15, 16, 17, 18, 19, 20)\n",
      "¿Están los números 20 y 30 en la Tupla? \n",
      "El número 20 SÍ está en la lista\n",
      "El número 30 NO está en la lista\n"
     ]
    }
   ],
   "source": [
    "print(\"La tupla es:\")\n",
    "print(tupleNumeros)\n",
    "print(\"¿Están los números 20 y 30 en la Tupla? \")\n",
    "if (20 in tupleNumeros):\n",
    "    print(\"El número 20 SÍ está en la lista\")\n",
    "else:\n",
    "    print(\"El número 20 NO está en la lista\")\n",
    "if (30 in tupleNumeros):\n",
    "    print(\"El número 30 SÍ está en la lista\")\n",
    "else:\n",
    "    print(\"El número 30 NO está en la lista\")"
   ]
  },
  {
   "cell_type": "markdown",
   "metadata": {},
   "source": [
    "19) Con la lista creada en el punto 1, validar la existencia del elemento 'París' y si no existe, agregarlo. Utilizar una variable e informar lo sucedido."
   ]
  },
  {
   "cell_type": "code",
   "execution_count": 39,
   "metadata": {},
   "outputs": [
    {
     "name": "stdout",
     "output_type": "stream",
     "text": [
      "La lista de ciudades es: \n",
      "['Gunajuato', 'Ciego de Ávila', 'Buenos Aires', 'Río de Janeiro', 'Venecia', 'Portugal', 'Cienfuegos', 'Querétaro', 'Caracas', 'Bogotá']\n",
      "La ciudad París NO existía en lalista y fue agregada:\n",
      "['Gunajuato', 'Ciego de Ávila', 'Buenos Aires', 'Río de Janeiro', 'Venecia', 'Portugal', 'Cienfuegos', 'Querétaro', 'Caracas', 'Bogotá', 'París']\n"
     ]
    }
   ],
   "source": [
    "print(\"La lista de ciudades es: \")\n",
    "print(listCiudades)\n",
    "flatParis = 0\n",
    "if ('París' in listCiudades):\n",
    "    flatParis = 1\n",
    "if flatParis == 1:\n",
    "    print(\"La ciudad París YA existe en lalista\")\n",
    "elif flatParis == 0:\n",
    "    listCiudades.append('París')\n",
    "    print(\"La ciudad París NO existía en lalista y fue agregada:\")\n",
    "    print(listCiudades)"
   ]
  },
  {
   "cell_type": "markdown",
   "metadata": {},
   "source": [
    "20) Mostrar la cantidad de veces que se encuentra un elemento específico dentro de la tupla y de la lista"
   ]
  },
  {
   "cell_type": "code",
   "execution_count": 43,
   "metadata": {},
   "outputs": [
    {
     "name": "stdout",
     "output_type": "stream",
     "text": [
      "La lista de ciudades es: \n",
      "['Gunajuato', 'Ciego de Ávila', 'Buenos Aires', 'Río de Janeiro', 'Habana', 'Venecia', 'Portugal', 'Cienfuegos', 'Querétaro', 'Caracas', 'Bogotá', 'París', 'Habana']\n",
      "La ciudad Habana aparece  2 veces en la misma\n",
      "La tupla de números es: \n",
      "(1, 2, 3, 4, 5, 6, 7, 8, 9, 10, 11, 12, 13, 14, 15, 16, 17, 18, 19, 20)\n",
      "El número 5 aparece  1 veces en la misma\n"
     ]
    }
   ],
   "source": [
    "print(\"La lista de ciudades es: \")\n",
    "print(listCiudades)\n",
    "print(f\"La ciudad Habana aparece \", listCiudades.count('Habana'), \"veces en la misma\")\n",
    "print(\"La tupla de números es: \")\n",
    "print(tupleNumeros)\n",
    "print(f\"El número 5 aparece \", tupleNumeros.count(5), \"veces en la misma\")\n"
   ]
  },
  {
   "cell_type": "markdown",
   "metadata": {},
   "source": [
    "21) Convertir la tupla en una lista"
   ]
  },
  {
   "cell_type": "code",
   "execution_count": 44,
   "metadata": {},
   "outputs": [
    {
     "name": "stdout",
     "output_type": "stream",
     "text": [
      "La tupla de números es: \n",
      "(1, 2, 3, 4, 5, 6, 7, 8, 9, 10, 11, 12, 13, 14, 15, 16, 17, 18, 19, 20)\n",
      "La lista de la tupla de números es: \n",
      "[1, 2, 3, 4, 5, 6, 7, 8, 9, 10, 11, 12, 13, 14, 15, 16, 17, 18, 19, 20]\n"
     ]
    }
   ],
   "source": [
    "print(\"La tupla de números es: \")\n",
    "print(tupleNumeros)\n",
    "listFromTuple = list(tupleNumeros)\n",
    "print(\"La lista de la tupla de números es: \")\n",
    "print(listFromTuple)"
   ]
  },
  {
   "cell_type": "markdown",
   "metadata": {},
   "source": [
    "22) Desempaquetar solo los primeros 3 elementos de la tupla en 3 variables"
   ]
  },
  {
   "cell_type": "code",
   "execution_count": 46,
   "metadata": {},
   "outputs": [
    {
     "name": "stdout",
     "output_type": "stream",
     "text": [
      "Los valores desempaquetados son-> var1: 1 var2: 2 y var3: 3\n"
     ]
    }
   ],
   "source": [
    "var1, var2, var3 = tupleNumeros[0:3]\n",
    "print(f\"Los valores desempaquetados son-> var1:\",var1, \"var2:\", var2, \"y var3:\", var3)"
   ]
  },
  {
   "cell_type": "markdown",
   "metadata": {},
   "source": [
    "23) Crear un diccionario utilizando la lista crada en el punto 1, asignandole la clave \"ciudad\". Agregar tambien otras claves, como puede ser \"Pais\" y \"Continente\"."
   ]
  },
  {
   "cell_type": "code",
   "execution_count": 47,
   "metadata": {},
   "outputs": [
    {
     "name": "stdout",
     "output_type": "stream",
     "text": [
      "{'Ciudades': ['Gunajuato', 'Ciego de Ávila', 'Buenos Aires', 'Río de Janeiro', 'Habana', 'Venecia', 'Portugal', 'Cienfuegos', 'Querétaro', 'Caracas', 'Bogotá', 'París', 'Habana'], 'Paises': ['Cuba', 'México', 'Francia', 'Argentina', 'Colombia', 'Venezuela', 'Brasil'], 'Continentes': ['América', 'Asia', 'África', 'Europa', 'Australia']}\n"
     ]
    }
   ],
   "source": [
    "diccLocalidades = {'Ciudades': listCiudades,\n",
    "                    'Paises': ['Cuba', 'México', 'Francia', 'Argentina', 'Colombia', 'Venezuela', 'Brasil'],\n",
    "                    'Continentes': ['América', 'Asia', 'África', 'Europa', 'Australia']}\n",
    "print(diccLocalidades)"
   ]
  },
  {
   "cell_type": "markdown",
   "metadata": {},
   "source": [
    "24) Imprimir las claves del diccionario"
   ]
  },
  {
   "cell_type": "code",
   "execution_count": 48,
   "metadata": {},
   "outputs": [
    {
     "name": "stdout",
     "output_type": "stream",
     "text": [
      "Estas son las claves del diccionario: \n",
      "dict_keys(['Ciudades', 'Paises', 'Continentes'])\n",
      "Estos son los valores del diccionario: \n",
      "dict_values([['Gunajuato', 'Ciego de Ávila', 'Buenos Aires', 'Río de Janeiro', 'Habana', 'Venecia', 'Portugal', 'Cienfuegos', 'Querétaro', 'Caracas', 'Bogotá', 'París', 'Habana'], ['Cuba', 'México', 'Francia', 'Argentina', 'Colombia', 'Venezuela', 'Brasil'], ['América', 'Asia', 'África', 'Europa', 'Australia']])\n"
     ]
    }
   ],
   "source": [
    "print(\"Estas son las claves del diccionario: \")\n",
    "print(diccLocalidades.keys())\n",
    "print(\"Estos son los valores del diccionario: \")\n",
    "print(diccLocalidades.values())\n"
   ]
  },
  {
   "cell_type": "markdown",
   "metadata": {},
   "source": [
    "25) Imprimir las ciudades a través de su clave"
   ]
  },
  {
   "cell_type": "code",
   "execution_count": 51,
   "metadata": {},
   "outputs": [
    {
     "name": "stdout",
     "output_type": "stream",
     "text": [
      "Imprimiendo ciudades a partir de su clave:\n",
      "['Gunajuato', 'Ciego de Ávila', 'Buenos Aires', 'Río de Janeiro', 'Habana', 'Venecia', 'Portugal', 'Cienfuegos', 'Querétaro', 'Caracas', 'Bogotá', 'París', 'Habana']\n"
     ]
    }
   ],
   "source": [
    "print(\"Imprimiendo ciudades a partir de su clave:\")\n",
    "print(diccLocalidades['Ciudades'])"
   ]
  }
 ],
 "metadata": {
  "kernelspec": {
   "display_name": "Python 3.8.10 64-bit",
   "language": "python",
   "name": "python3"
  },
  "language_info": {
   "codemirror_mode": {
    "name": "ipython",
    "version": 3
   },
   "file_extension": ".py",
   "mimetype": "text/x-python",
   "name": "python",
   "nbconvert_exporter": "python",
   "pygments_lexer": "ipython3",
   "version": "3.8.10"
  },
  "orig_nbformat": 4,
  "vscode": {
   "interpreter": {
    "hash": "916dbcbb3f70747c44a77c7bcd40155683ae19c65e1c03b4aa3499c5328201f1"
   }
  }
 },
 "nbformat": 4,
 "nbformat_minor": 2
}
