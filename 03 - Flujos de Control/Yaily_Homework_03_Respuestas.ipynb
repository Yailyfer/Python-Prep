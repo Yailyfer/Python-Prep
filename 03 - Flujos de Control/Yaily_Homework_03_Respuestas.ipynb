{
 "cells": [
  {
   "cell_type": "markdown",
   "metadata": {},
   "source": [
    "1) Crear una variable que contenga un elemento del conjunto de números enteros y luego imprimir por pantalla si es mayor o menor a cero"
   ]
  },
  {
   "cell_type": "code",
   "execution_count": null,
   "metadata": {},
   "outputs": [],
   "source": [
    "num1 = -45\n",
    "if (num1 > 0):\n",
    "    print(\"El numero es mayor que cero\")\n",
    "elif (num1 < 0):\n",
    "    print(\"El numero es menor que cero\")"
   ]
  },
  {
   "cell_type": "markdown",
   "metadata": {},
   "source": [
    "2) Crear dos variables y un condicional que informe si son del mismo tipo de dato"
   ]
  },
  {
   "cell_type": "code",
   "execution_count": null,
   "metadata": {},
   "outputs": [],
   "source": [
    "var1 = '34'\n",
    "var2 = 'Hola'\n",
    "if (type(var1) == type(var2)):\n",
    "    print(f\"Las variables, var1: \",var1, \" y var2: \",var2, \",son del MISMO tipo.\")\n",
    "else:\n",
    "    print(f\"Las variables, var1: \",var1, \" y var2: \",var2, \",son de DIFERENTE tipo.\")"
   ]
  },
  {
   "cell_type": "markdown",
   "metadata": {},
   "source": [
    "3) Para los valores enteros del 1 al 20, imprimir por pantalla si es par o impar"
   ]
  },
  {
   "cell_type": "code",
   "execution_count": null,
   "metadata": {},
   "outputs": [],
   "source": [
    "for element in range(1,21):\n",
    "    resto = element % 2\n",
    "    if resto == 0:\n",
    "        print(f\"El número: \", element, \" es par.\")\n",
    "    else:\n",
    "        print(f\"El número: \", element, \" es impar.\")"
   ]
  },
  {
   "cell_type": "markdown",
   "metadata": {},
   "source": [
    "4) En un ciclo for mostrar para los valores entre 0 y 5 el resultado de elevarlo a la potencia igual a 3"
   ]
  },
  {
   "cell_type": "code",
   "execution_count": null,
   "metadata": {},
   "outputs": [],
   "source": [
    "for element in range(0,6):\n",
    "    print(f\"El número: \", element, \" elevado a la 3 es igual a \", element ** 3)"
   ]
  },
  {
   "cell_type": "markdown",
   "metadata": {},
   "source": [
    "5) Crear una variable que contenga un número entero y realizar un ciclo for la misma cantidad de ciclos"
   ]
  },
  {
   "cell_type": "code",
   "execution_count": null,
   "metadata": {},
   "outputs": [],
   "source": [
    "num_cicles = 4\n",
    "for element in range(4):\n",
    "    print(f\"Este es el ciclo número: \", element+1)"
   ]
  },
  {
   "cell_type": "markdown",
   "metadata": {},
   "source": [
    "6) Utilizar un ciclo while para realizar el factorial de un número guardado en una variable, sólo si la variable contiene un número entero mayor a 0"
   ]
  },
  {
   "cell_type": "code",
   "execution_count": null,
   "metadata": {},
   "outputs": [],
   "source": [
    "num_factorial = 6\n",
    "factorial = 1\n",
    "if (type((num_factorial) == int) and (num_factorial > 0)):\n",
    "    num_factorial_orig = num_factorial\n",
    "    while num_factorial > 0:\n",
    "        factorial = factorial * num_factorial\n",
    "        num_factorial -= 1\n",
    "    print(f\"El factorial de: \", num_factorial_orig, \"es \", factorial)\n",
    "else:\n",
    "    print(f\"El numero: \", num_factorial, \", no cumple las condicones.\")"
   ]
  },
  {
   "cell_type": "markdown",
   "metadata": {},
   "source": [
    "7) Crear un ciclo for dentro de un ciclo while"
   ]
  },
  {
   "cell_type": "code",
   "execution_count": null,
   "metadata": {},
   "outputs": [],
   "source": [
    "# Imprime los números del 0 al 5 dos veces acorde al valor de la variable cont\n",
    "cont = 2\n",
    "cont_init = cont + 1\n",
    "print(f\"Imprimiré los números del 0-4, \", cont, \"veces\")\n",
    "while cont > 0:\n",
    "    print(f\"\\n Vez número \", cont_init - cont), \":\"\n",
    "    for element in range(5):\n",
    "        print(f\"Soy el número: \", element)\n",
    "    cont -= 1"
   ]
  },
  {
   "cell_type": "markdown",
   "metadata": {},
   "source": [
    "8) Crear un ciclo while dentro de un ciclo for"
   ]
  },
  {
   "cell_type": "code",
   "execution_count": null,
   "metadata": {},
   "outputs": [],
   "source": [
    "# Toma los números entre 1 y 4, los decrementa de 1 en 1 hasta cero y va sumando cada uno de estos valores\n",
    "# Suma que devuelva en la variable suma y la imprime por pantalla\n",
    "suma = 0\n",
    "for element in range(1,5):\n",
    "    element_init = element\n",
    "    while element > 0:\n",
    "        suma += element\n",
    "        element -= 1\n",
    "    print(f\"La suma de los números entre 0 y \", element_init, \"es: \", suma)\n",
    "    suma = 0\n",
    "        "
   ]
  },
  {
   "cell_type": "markdown",
   "metadata": {},
   "source": [
    "9) Imprimir los números primos existentes entre 0 y 30"
   ]
  },
  {
   "cell_type": "code",
   "execution_count": null,
   "metadata": {},
   "outputs": [],
   "source": [
    "# Los números primos son los divisibles por 1 y por él mismo\n",
    "flat_primo = 1\n",
    "print(\"Los numeros primos del 0 al 30 son: \")\n",
    "for element in range(31):\n",
    "    divisor = 2\n",
    "    while divisor < (element/2):\n",
    "        if (element % divisor) == 0:\n",
    "            flat_primo = 0\n",
    "            break\n",
    "        divisor += 1\n",
    "    if flat_primo == 1 and element != 0:\n",
    "        print(element)\n",
    "    flat_primo = 1\n"
   ]
  },
  {
   "cell_type": "markdown",
   "metadata": {},
   "source": [
    "10) ¿Se puede mejorar el proceso del punto 9? Utilizar las sentencias break y/ó continue para tal fin"
   ]
  },
  {
   "cell_type": "code",
   "execution_count": null,
   "metadata": {},
   "outputs": [],
   "source": [
    "# Ya la utilicé en el código"
   ]
  },
  {
   "cell_type": "markdown",
   "metadata": {},
   "source": [
    "11) En los puntos 9 y 10, se diseño un código que encuentra números primos y además se lo optimizó. ¿Es posible saber en qué medida se optimizó?"
   ]
  },
  {
   "cell_type": "code",
   "execution_count": null,
   "metadata": {},
   "outputs": [],
   "source": [
    "# Ejecutándo ambos códigos al mismo tiempo y el que se ejecute en menos tiempo, que debe ser el optimizado\n",
    "# es el más óptimo porque se disminuye la complejidad"
   ]
  },
  {
   "cell_type": "markdown",
   "metadata": {},
   "source": [
    "12) Si la cantidad de números que se evalúa es mayor a treinta, esa optimización crece?"
   ]
  },
  {
   "cell_type": "code",
   "execution_count": null,
   "metadata": {},
   "outputs": [],
   "source": [
    "# VER LA RESPUESTA EN CLASES"
   ]
  },
  {
   "cell_type": "markdown",
   "metadata": {},
   "source": [
    "13) Aplicando continue, armar un ciclo while que solo imprima los valores divisibles por 12, dentro del rango de números de 100 a 300"
   ]
  },
  {
   "cell_type": "code",
   "execution_count": null,
   "metadata": {},
   "outputs": [],
   "source": [
    "# Busca el primer número divisible por 12 en el rango propuesto entre 100 y 300, incrementando de 1 en 1\n",
    "# Luego usando la función CONTINUE incrementa de 12 en 12, ya NO de 1 en 1, y lo va guardando en la lista \n",
    "# para imprimirlo\n",
    "var_num = 100\n",
    "list_num_div12 =[]\n",
    "while var_num <= 300:\n",
    "    if var_num % 12 == 0:\n",
    "        list_num_div12.append(var_num)\n",
    "        var_num += 12\n",
    "        continue\n",
    "    var_num += 1\n",
    "print(\"La lista de números divisibles por 12 entre el 100 y el 200 es:\")\n",
    "print(list_num_div12)\n",
    "    "
   ]
  },
  {
   "cell_type": "markdown",
   "metadata": {},
   "source": [
    "14) Utilizar la función **input()** que permite hacer ingresos por teclado, para encontrar números primos y dar la opción al usario de buscar el siguiente"
   ]
  },
  {
   "cell_type": "code",
   "execution_count": null,
   "metadata": {},
   "outputs": [],
   "source": [
    "cant_num = int(input(\"¿Cuántos números desea analizar si son primos o no?: \"))\n",
    "cont = 1\n",
    "flat_primo = 1\n",
    "while cont <= cant_num:\n",
    "    num_analiz = int(input(\"Entre el siguiente número:\" ))\n",
    "    divisor = 2\n",
    "    num_analiz_modulo = abs(num_analiz)\n",
    "    while divisor < (num_analiz_modulo/2):\n",
    "        if (num_analiz_modulo % divisor) == 0:\n",
    "            print(f\"El número \", num_analiz, \"NO es primo\")\n",
    "            flat_primo = 0\n",
    "            break\n",
    "        divisor += 1\n",
    "    if flat_primo == 1 and num_analiz_modulo != 0:\n",
    "        print(f\"El número \", num_analiz, \" SI es primo\")\n",
    "    cont += 1\n",
    "    flat_primo = 1\n",
    "    "
   ]
  },
  {
   "cell_type": "markdown",
   "metadata": {},
   "source": [
    "15) Crear un ciclo while que encuentre dentro del rango de 100 a 300 el primer número divisible por 3 y además múltiplo de 6"
   ]
  },
  {
   "cell_type": "code",
   "execution_count": null,
   "metadata": {},
   "outputs": [],
   "source": [
    "var_num = 100\n",
    "while var_num <= 300:\n",
    "    if (var_num % 3 == 0) and (var_num % 6 == 0):\n",
    "        print(f\"El primer número entre el 100 y el 200 divisible por 3 y múltiplo de 6 es:\",var_num)\n",
    "        break\n",
    "    var_num += 1"
   ]
  }
 ],
 "metadata": {
  "kernelspec": {
   "display_name": "Python 3.8.10 64-bit",
   "language": "python",
   "name": "python3"
  },
  "language_info": {
   "codemirror_mode": {
    "name": "ipython",
    "version": 3
   },
   "file_extension": ".py",
   "mimetype": "text/x-python",
   "name": "python",
   "nbconvert_exporter": "python",
   "pygments_lexer": "ipython3",
   "version": "3.8.10"
  },
  "orig_nbformat": 4,
  "vscode": {
   "interpreter": {
    "hash": "916dbcbb3f70747c44a77c7bcd40155683ae19c65e1c03b4aa3499c5328201f1"
   }
  }
 },
 "nbformat": 4,
 "nbformat_minor": 2
}
