{
 "cells": [
  {
   "cell_type": "markdown",
   "metadata": {},
   "source": [
    "1) A partir de una lista vacía, utilizar un ciclo while para cargar allí números negativos del -15 al -1"
   ]
  },
  {
   "cell_type": "code",
   "execution_count": 1,
   "metadata": {},
   "outputs": [
    {
     "name": "stdout",
     "output_type": "stream",
     "text": [
      "[-15, -14, -13, -12, -11, -10, -9, -8, -7, -6, -5, -4, -3, -2, -1]\n"
     ]
    }
   ],
   "source": [
    "listVoid = []\n",
    "initValue = -15\n",
    "while initValue <= -1:\n",
    "    listVoid.append(initValue)\n",
    "    initValue += 1\n",
    "print(listVoid)"
   ]
  },
  {
   "cell_type": "markdown",
   "metadata": {},
   "source": [
    "2) ¿Con un ciclo while sería posible recorrer la lista para imprimir sólo los números pares?"
   ]
  },
  {
   "cell_type": "code",
   "execution_count": 3,
   "metadata": {},
   "outputs": [
    {
     "name": "stdout",
     "output_type": "stream",
     "text": [
      "-14\n",
      "-12\n",
      "-10\n",
      "-8\n",
      "-6\n",
      "-4\n",
      "-2\n"
     ]
    }
   ],
   "source": [
    "# Sí es posible como se muestra a continuación:\n",
    "cont = 0\n",
    "while cont < len(listVoid):\n",
    "    if (listVoid[cont] % 2 == 0):\n",
    "        print(listVoid[cont])\n",
    "    cont += 1\n"
   ]
  },
  {
   "cell_type": "markdown",
   "metadata": {},
   "source": [
    "3) Resolver el punto anterior sin utilizar un ciclo while"
   ]
  },
  {
   "cell_type": "code",
   "execution_count": 5,
   "metadata": {},
   "outputs": [
    {
     "name": "stdout",
     "output_type": "stream",
     "text": [
      "-14\n",
      "-12\n",
      "-10\n",
      "-8\n",
      "-6\n",
      "-4\n",
      "-2\n"
     ]
    }
   ],
   "source": [
    "for element in listVoid:\n",
    "    if (element % 2 == 0):\n",
    "        print(element)"
   ]
  },
  {
   "cell_type": "markdown",
   "metadata": {},
   "source": [
    "4) Utilizar el iterable para recorrer sólo los primeros 3 elementos"
   ]
  },
  {
   "cell_type": "code",
   "execution_count": 9,
   "metadata": {},
   "outputs": [
    {
     "name": "stdout",
     "output_type": "stream",
     "text": [
      "-15\n",
      "-14\n",
      "-13\n"
     ]
    },
    {
     "data": {
      "text/plain": [
       "'\\ncont = 1\\nfor element in listVoid:\\n    if cont < 4:\\n        print(element)\\n        cont += 1\\n'"
      ]
     },
     "execution_count": 9,
     "metadata": {},
     "output_type": "execute_result"
    }
   ],
   "source": [
    "for element in range(3):\n",
    "    print(listVoid[element])\n",
    "\n",
    "# Otra variante:\n",
    "'''\n",
    "cont = 1\n",
    "for element in listVoid:\n",
    "    if cont < 4:\n",
    "        print(element)\n",
    "        cont += 1\n",
    "'''"
   ]
  },
  {
   "cell_type": "markdown",
   "metadata": {},
   "source": [
    "5) Utilizar la función **enumerate** para obtener dentro del iterable, tambien el índice al que corresponde el elemento"
   ]
  },
  {
   "cell_type": "code",
   "execution_count": 12,
   "metadata": {},
   "outputs": [
    {
     "name": "stdout",
     "output_type": "stream",
     "text": [
      "0 -15\n",
      "1 -14\n",
      "2 -13\n"
     ]
    }
   ],
   "source": [
    "'''\n",
    "cont = 1\n",
    "for element in enumerate(listVoid):\n",
    "    if cont < 4:\n",
    "        print(element)\n",
    "        cont += 1\n",
    "'''\n",
    "# Si los quiero en variabes separadas uso esta sección\n",
    "cont = 1\n",
    "for posic, element in enumerate(listVoid):\n",
    "    if cont < 4:\n",
    "        print(posic, element)\n",
    "        cont += 1"
   ]
  },
  {
   "cell_type": "markdown",
   "metadata": {},
   "source": [
    "6) Dada la siguiente lista de números enteros entre 1 y 20, crear un ciclo donde se completen los valores faltantes: lista = [1,2,5,7,8,10,13,14,15,17,20]"
   ]
  },
  {
   "cell_type": "code",
   "execution_count": 22,
   "metadata": {},
   "outputs": [
    {
     "name": "stdout",
     "output_type": "stream",
     "text": [
      "[1, 2, 5, 7, 8, 10, 13, 14, 15, 17, 20]\n",
      "[1, 2, 3, 4, 5, 6, 7, 8, 9, 10, 11, 12, 13, 14, 15, 16, 17, 18, 19, 20]\n"
     ]
    }
   ],
   "source": [
    "lista = [1,2,5,7,8,10,13,14,15,17,20]\n",
    "print(lista)\n",
    "cont = 0\n",
    "while cont < 20:\n",
    "    if (lista[cont] != (cont + 1)):\n",
    "        lista.insert(cont, (cont + 1))\n",
    "    cont += 1\n",
    "print(lista)\n",
    "\n"
   ]
  },
  {
   "cell_type": "markdown",
   "metadata": {},
   "source": [
    "7) La sucesión de Fibonacci es un listado de números que sigue la fórmula: <br>\n",
    "n<sub>0</sub> = 0<br>\n",
    "n<sub>1</sub> = 1<br>\n",
    "n<sub>i</sub> = n<sub>i-1</sub> + n<sub>i-2</sub><br>\n",
    "Crear una lista con los primeros treinta números de la sucesión.<br>"
   ]
  },
  {
   "cell_type": "code",
   "execution_count": 24,
   "metadata": {},
   "outputs": [
    {
     "name": "stdout",
     "output_type": "stream",
     "text": [
      "[0, 1, 1, 2, 3, 5, 8, 13, 21, 34, 55, 89, 144, 233, 377, 610, 987, 1597, 2584, 4181, 6765, 10946, 17711, 28657, 46368, 75025, 121393, 196418, 317811, 514229]\n",
      "30\n"
     ]
    }
   ],
   "source": [
    "sucesFibonacci = [0,1]\n",
    "cont  = 2\n",
    "while cont < 30:\n",
    "    result = sucesFibonacci[cont-1] + sucesFibonacci[cont-2]\n",
    "    sucesFibonacci.append(result)\n",
    "    cont += 1\n",
    "print(sucesFibonacci)\n",
    "#print(len(sucesFibonacci))"
   ]
  },
  {
   "cell_type": "markdown",
   "metadata": {},
   "source": [
    "8) Realizar la suma de todos elementos de la lista del punto anterior"
   ]
  },
  {
   "cell_type": "code",
   "execution_count": 25,
   "metadata": {},
   "outputs": [
    {
     "name": "stdout",
     "output_type": "stream",
     "text": [
      "1346268\n"
     ]
    }
   ],
   "source": [
    "sumElemtAnteriores = sum(sucesFibonacci)\n",
    "print(sumElemtAnteriores)"
   ]
  },
  {
   "cell_type": "markdown",
   "metadata": {},
   "source": [
    "9) La proporción aurea se expresa con una proporción matemática que nace el número irracional Phi= 1,618… que los griegos llamaron número áureo. El cuál se puede aproximar con la sucesión de Fibonacci. Con la lista del ejercicio anterior, imprimir el cociente de los últimos 5 pares de dos números contiguos:<br>\n",
    "Donde i es la cantidad total de elementos<br>\n",
    "n<sub>i-1</sub> / n<sub>i</sub><br>\n",
    "n<sub>i-2</sub> / n<sub>i-1</sub><br>\n",
    "n<sub>i-3</sub> / n<sub>i-2</sub><br>\n",
    "n<sub>i-4</sub> / n<sub>i-3</sub><br>\n",
    "n<sub>i-5</sub> / n<sub>i-4</sub><br>"
   ]
  },
  {
   "cell_type": "code",
   "execution_count": 26,
   "metadata": {},
   "outputs": [
    {
     "name": "stdout",
     "output_type": "stream",
     "text": [
      "0.6180339887482036\n",
      "0.6180339887543226\n",
      "0.618033988738303\n",
      "0.6180339887802427\n",
      "0.6180339886704432\n"
     ]
    }
   ],
   "source": [
    "cont  = 5\n",
    "posic = len(sucesFibonacci) - 1\n",
    "while cont > 0:\n",
    "    numAureo = sucesFibonacci[posic-1] / sucesFibonacci[posic]\n",
    "    print(numAureo)\n",
    "    cont -= 1\n",
    "    posic -= 1"
   ]
  },
  {
   "cell_type": "markdown",
   "metadata": {},
   "source": [
    "10) A partir de la variable cadena ya dada, mostrar en qué posiciones aparece la letra \"n\"<br>\n",
    "cadena = 'Hola Mundo. Esto es una practica del lenguaje de programación Python'"
   ]
  },
  {
   "cell_type": "code",
   "execution_count": 28,
   "metadata": {},
   "outputs": [
    {
     "name": "stdout",
     "output_type": "stream",
     "text": [
      "7 n\n",
      "21 n\n",
      "39 n\n",
      "60 n\n",
      "67 n\n"
     ]
    }
   ],
   "source": [
    "cadena = 'Hola Mundo. Esto es una practica del lenguaje de programación Python'\n",
    "for posicCadena, letra in enumerate(cadena):\n",
    "    if letra == 'n':\n",
    "        print(posicCadena, letra)"
   ]
  },
  {
   "cell_type": "markdown",
   "metadata": {},
   "source": [
    "11) Crear un diccionario e imprimir sus claves utilizando un iterador"
   ]
  },
  {
   "cell_type": "code",
   "execution_count": 2,
   "metadata": {},
   "outputs": [
    {
     "name": "stdout",
     "output_type": "stream",
     "text": [
      "nombre\n",
      "apellido\n",
      "edad\n",
      "Escolaridad\n",
      "Carlos\n"
     ]
    }
   ],
   "source": [
    "diccPersonas = {'nombre': 'Carlos',\n",
    "                 'apellido':'Lopez',\n",
    "                 'edad':35,\n",
    "                 'Escolaridad':'Universitario'\n",
    "                }\n",
    "for keys in diccPersonas:\n",
    "    print(keys)\n",
    "# Imprimiendo desde la clave del diccionario\n",
    "print(diccPersonas['nombre'])"
   ]
  },
  {
   "cell_type": "markdown",
   "metadata": {},
   "source": [
    "12) Convertir en una lista la variable \"cadena\" del punto 10 y luego recorrerla con un iterador "
   ]
  },
  {
   "cell_type": "code",
   "execution_count": null,
   "metadata": {},
   "outputs": [],
   "source": [
    "listCadena = list(cadena)\n",
    "print(listCadena)\n",
    "for element in listCadena:\n",
    "    print(element)"
   ]
  },
  {
   "cell_type": "markdown",
   "metadata": {},
   "source": [
    "13) Crear dos listas y unirlas en una tupla utilizando la función zip"
   ]
  },
  {
   "cell_type": "code",
   "execution_count": 33,
   "metadata": {},
   "outputs": [
    {
     "name": "stdout",
     "output_type": "stream",
     "text": [
      "(('area', '36 m2'), ('localidad', 'Cordillera'), ('ciudad', 'León'), ('tipo', 'casa independiente'))\n"
     ]
    },
    {
     "data": {
      "text/plain": [
       "tuple"
      ]
     },
     "execution_count": 33,
     "metadata": {},
     "output_type": "execute_result"
    }
   ],
   "source": [
    "listPropiedades = ['area','localidad','ciudad','tipo']\n",
    "listValores = ['36 m2', 'Cordillera', 'León', 'casa independiente']\n",
    "listUnidaZip = tuple(zip(listPropiedades,listValores))\n",
    "print(listUnidaZip)\n",
    "type(listUnidaZip)"
   ]
  },
  {
   "cell_type": "markdown",
   "metadata": {},
   "source": [
    "14) A partir de la siguiente lista de números, crear una nueva sólo si el número es divisible por 7<br>\n",
    "lis = [18,21,29,32,35,42,56,60,63,71,84,90,91,100]"
   ]
  },
  {
   "cell_type": "code",
   "execution_count": 59,
   "metadata": {},
   "outputs": [
    {
     "name": "stdout",
     "output_type": "stream",
     "text": [
      "[18, 21, 29, 32, 35, 42, 56, 60, 63, 71, 84, 90, 91, 100]\n",
      "La lista de números divisibles por 7 es :\n",
      "[21, 35, 42, 56, 63, 84, 91]\n"
     ]
    }
   ],
   "source": [
    "lis = [18,21,29,32,35,42,56,60,63,71,84,90,91,100]\n",
    "lisNumDiv7 = []\n",
    "for number in lis:\n",
    "    if (number % 7 == 0):\n",
    "        lisNumDiv7.append(number)\n",
    "print(lis)\n",
    "print(\"La lista de números divisibles por 7 es :\")\n",
    "print(lisNumDiv7)\n"
   ]
  },
  {
   "cell_type": "markdown",
   "metadata": {},
   "source": [
    "15) A partir de la lista de a continuación, contar la cantidad total de elementos que contiene, teniendo en cuenta que un elemento de la lista podría ser otra lista:<br>\n",
    "lis = [[1,2,3,4],'rojo','verde',[True,False,False],['uno','dos','tres']]"
   ]
  },
  {
   "cell_type": "code",
   "execution_count": 5,
   "metadata": {},
   "outputs": [
    {
     "name": "stdout",
     "output_type": "stream",
     "text": [
      "El número total de elementos de la lista asignada es:  12\n"
     ]
    }
   ],
   "source": [
    "lislis = [[1,2,3,4],'rojo','verde',[True,False,False],['uno','dos','tres']]\n",
    "contListas = 0 # Inicio un contador de listas en 0\n",
    "contElementListas = 0 # Inicio contador de elementos en lista en cero\n",
    "for element in lislis:\n",
    "    if (type(element) == list):\n",
    "        contListas += 1\n",
    "        contElementListas += len(element)\n",
    "print(f\"El número total de elementos de la lista asignada es: \", (len(lislis)-contListas+contElementListas))"
   ]
  },
  {
   "cell_type": "markdown",
   "metadata": {},
   "source": [
    "16) Tomar la lista del punto anterior y convertir cada elemento en una lista si no lo es"
   ]
  },
  {
   "cell_type": "code",
   "execution_count": 6,
   "metadata": {},
   "outputs": [
    {
     "name": "stdout",
     "output_type": "stream",
     "text": [
      "El elemento es:  rojo\n",
      "El elemento es:  verde\n",
      "Las listas de los elementos anteriores son: \n",
      "['r', 'o', 'j', 'o']\n",
      "['v', 'e', 'r', 'd', 'e']\n"
     ]
    }
   ],
   "source": [
    "lislis2 = [[1,2,3,4],'rojo','verde',[True,False,False],['uno','dos','tres']]\n",
    "listFromString = []\n",
    "for element in lislis2:\n",
    "    if (type(element) != list):\n",
    "        wordToList = list(element)\n",
    "        listFromString.append(wordToList)\n",
    "        print(f\"El elemento es: \", element)\n",
    "print(f\"Las listas de los elementos anteriores son: \")\n",
    "for newElement in listFromString:\n",
    "    print(newElement)"
   ]
  }
 ],
 "metadata": {
  "kernelspec": {
   "display_name": "Python 3.8.10 64-bit",
   "language": "python",
   "name": "python3"
  },
  "language_info": {
   "codemirror_mode": {
    "name": "ipython",
    "version": 3
   },
   "file_extension": ".py",
   "mimetype": "text/x-python",
   "name": "python",
   "nbconvert_exporter": "python",
   "pygments_lexer": "ipython3",
   "version": "3.8.10"
  },
  "orig_nbformat": 4,
  "vscode": {
   "interpreter": {
    "hash": "916dbcbb3f70747c44a77c7bcd40155683ae19c65e1c03b4aa3499c5328201f1"
   }
  }
 },
 "nbformat": 4,
 "nbformat_minor": 2
}
